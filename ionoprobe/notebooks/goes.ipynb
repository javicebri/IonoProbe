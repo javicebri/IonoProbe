{
 "cells": [
  {
   "cell_type": "code",
   "execution_count": 6,
   "metadata": {},
   "outputs": [],
   "source": [
    "import pandas as pd\n",
    "import os\n",
    "import matplotlib.pyplot as plt"
   ]
  },
  {
   "cell_type": "code",
   "execution_count": 4,
   "metadata": {},
   "outputs": [],
   "source": [
    "df = pd.read_csv(os.environ['DEBUG_MODE_GOES_FPATH'], sep=';')"
   ]
  },
  {
   "cell_type": "code",
   "execution_count": 7,
   "metadata": {},
   "outputs": [
    {
     "data": {
      "text/html": [
       "<div>\n",
       "<style scoped>\n",
       "    .dataframe tbody tr th:only-of-type {\n",
       "        vertical-align: middle;\n",
       "    }\n",
       "\n",
       "    .dataframe tbody tr th {\n",
       "        vertical-align: top;\n",
       "    }\n",
       "\n",
       "    .dataframe thead th {\n",
       "        text-align: right;\n",
       "    }\n",
       "</style>\n",
       "<table border=\"1\" class=\"dataframe\">\n",
       "  <thead>\n",
       "    <tr style=\"text-align: right;\">\n",
       "      <th></th>\n",
       "      <th>time_tag</th>\n",
       "      <th>satellite</th>\n",
       "      <th>flux</th>\n",
       "      <th>energy</th>\n",
       "    </tr>\n",
       "  </thead>\n",
       "  <tbody>\n",
       "    <tr>\n",
       "      <th>0</th>\n",
       "      <td>2024-01-29T11:55:00Z</td>\n",
       "      <td>16</td>\n",
       "      <td>0.290310</td>\n",
       "      <td>1000-1900 keV</td>\n",
       "    </tr>\n",
       "    <tr>\n",
       "      <th>10</th>\n",
       "      <td>2024-01-29T12:00:00Z</td>\n",
       "      <td>16</td>\n",
       "      <td>0.478983</td>\n",
       "      <td>1000-1900 keV</td>\n",
       "    </tr>\n",
       "    <tr>\n",
       "      <th>19</th>\n",
       "      <td>2024-01-29T12:05:00Z</td>\n",
       "      <td>16</td>\n",
       "      <td>0.333821</td>\n",
       "      <td>1000-1900 keV</td>\n",
       "    </tr>\n",
       "    <tr>\n",
       "      <th>28</th>\n",
       "      <td>2024-01-29T12:10:00Z</td>\n",
       "      <td>16</td>\n",
       "      <td>0.464498</td>\n",
       "      <td>1000-1900 keV</td>\n",
       "    </tr>\n",
       "    <tr>\n",
       "      <th>38</th>\n",
       "      <td>2024-01-29T12:15:00Z</td>\n",
       "      <td>16</td>\n",
       "      <td>0.348528</td>\n",
       "      <td>1000-1900 keV</td>\n",
       "    </tr>\n",
       "    <tr>\n",
       "      <th>...</th>\n",
       "      <td>...</td>\n",
       "      <td>...</td>\n",
       "      <td>...</td>\n",
       "      <td>...</td>\n",
       "    </tr>\n",
       "    <tr>\n",
       "      <th>19048</th>\n",
       "      <td>2024-02-05T11:25:00Z</td>\n",
       "      <td>16</td>\n",
       "      <td>0.637932</td>\n",
       "      <td>1000-1900 keV</td>\n",
       "    </tr>\n",
       "    <tr>\n",
       "      <th>19058</th>\n",
       "      <td>2024-02-05T11:30:00Z</td>\n",
       "      <td>16</td>\n",
       "      <td>0.681466</td>\n",
       "      <td>1000-1900 keV</td>\n",
       "    </tr>\n",
       "    <tr>\n",
       "      <th>19067</th>\n",
       "      <td>2024-02-05T11:35:00Z</td>\n",
       "      <td>16</td>\n",
       "      <td>0.826339</td>\n",
       "      <td>1000-1900 keV</td>\n",
       "    </tr>\n",
       "    <tr>\n",
       "      <th>19077</th>\n",
       "      <td>2024-02-05T11:40:00Z</td>\n",
       "      <td>16</td>\n",
       "      <td>0.927668</td>\n",
       "      <td>1000-1900 keV</td>\n",
       "    </tr>\n",
       "    <tr>\n",
       "      <th>19087</th>\n",
       "      <td>2024-02-05T11:45:00Z</td>\n",
       "      <td>16</td>\n",
       "      <td>0.840590</td>\n",
       "      <td>1000-1900 keV</td>\n",
       "    </tr>\n",
       "  </tbody>\n",
       "</table>\n",
       "<p>2015 rows × 4 columns</p>\n",
       "</div>"
      ],
      "text/plain": [
       "                   time_tag  satellite      flux         energy\n",
       "0      2024-01-29T11:55:00Z         16  0.290310  1000-1900 keV\n",
       "10     2024-01-29T12:00:00Z         16  0.478983  1000-1900 keV\n",
       "19     2024-01-29T12:05:00Z         16  0.333821  1000-1900 keV\n",
       "28     2024-01-29T12:10:00Z         16  0.464498  1000-1900 keV\n",
       "38     2024-01-29T12:15:00Z         16  0.348528  1000-1900 keV\n",
       "...                     ...        ...       ...            ...\n",
       "19048  2024-02-05T11:25:00Z         16  0.637932  1000-1900 keV\n",
       "19058  2024-02-05T11:30:00Z         16  0.681466  1000-1900 keV\n",
       "19067  2024-02-05T11:35:00Z         16  0.826339  1000-1900 keV\n",
       "19077  2024-02-05T11:40:00Z         16  0.927668  1000-1900 keV\n",
       "19087  2024-02-05T11:45:00Z         16  0.840590  1000-1900 keV\n",
       "\n",
       "[2015 rows x 4 columns]"
      ]
     },
     "execution_count": 7,
     "metadata": {},
     "output_type": "execute_result"
    }
   ],
   "source": [
    "df = df[df['energy']=='1000-1900 keV']\n",
    "df"
   ]
  },
  {
   "cell_type": "code",
   "execution_count": 10,
   "metadata": {},
   "outputs": [],
   "source": [
    "df.loc[:,['time_tag','flux']]\n",
    "df.index = df['time_tag']"
   ]
  },
  {
   "cell_type": "code",
   "execution_count": 13,
   "metadata": {},
   "outputs": [
    {
     "data": {
      "image/png": "[encoded data removed]",
      "text/plain": [
       "<Figure size 640x480 with 1 Axes>"
      ]
     },
     "metadata": {},
     "output_type": "display_data"
    }
   ],
   "source": [
    "plt.plot(df['flux'])\n",
    "plt.show()"
   ]
  },
  {
   "cell_type": "code",
   "execution_count": null,
   "metadata": {},
   "outputs": [],
   "source": []
  }
 ],
 "metadata": {
  "kernelspec": {
   "display_name": "base",
   "language": "python",
   "name": "python3"
  },
  "language_info": {
   "codemirror_mode": {
    "name": "ipython",
    "version": 3
   },
   "file_extension": ".py",
   "mimetype": "text/x-python",
   "name": "python",
   "nbconvert_exporter": "python",
   "pygments_lexer": "ipython3",
   "version": "3.11.5"
  }
 },
 "nbformat": 4,
 "nbformat_minor": 2
}
